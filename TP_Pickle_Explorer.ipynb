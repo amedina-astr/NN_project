{
 "cells": [
  {
   "cell_type": "markdown",
   "id": "a1cb9c97",
   "metadata": {},
   "source": [
    "\n",
    "# TP Pickle Explorer\n",
    "\n",
    "This notebook helps you inspect and visualize the contents of `bobcat_to_diamondback.pickle`, and export slices for downstream use (e.g., PICASO-ready profiles after you identify which axis corresponds to pressure/temperature).\n",
    "\n",
    "**What it does:**\n",
    "1. Loads the pickle (a NumPy array).\n",
    "2. Prints shape and basic stats.\n",
    "3. Plots variable curves vs. the vertical index for selected (Teff, g) indices.\n",
    "4. Shows mean curves over (Teff, g) for each variable.\n",
    "5. Lets you export a chosen (Teff, g) and variable index as CSV.\n",
    "6. (Optional) Demonstrates interpolation to a uniform log-pressure grid once you identify which variable is pressure and which is temperature.\n"
   ]
  },
  {
   "cell_type": "code",
   "execution_count": null,
   "id": "2ae5d5be",
   "metadata": {},
   "outputs": [],
   "source": [
    "\n",
    "# --- 0) Paths\n",
    "from pathlib import Path\n",
    "\n",
    "PICKLE_PATH = Path(\"/mnt/data/bobcat_to_diamondback.pickle\")  # update here if needed\n",
    "assert PICKLE_PATH.exists(), f\"File not found: {PICKLE_PATH}\"\n",
    "PICKLE_PATH\n"
   ]
  },
  {
   "cell_type": "code",
   "execution_count": null,
   "id": "e78deaab",
   "metadata": {},
   "outputs": [],
   "source": [
    "\n",
    "# --- 1) Load\n",
    "import numpy as np\n",
    "\n",
    "arr = np.load(PICKLE_PATH, allow_pickle=True)\n",
    "arr.shape\n"
   ]
  },
  {
   "cell_type": "markdown",
   "id": "9d017a8f",
   "metadata": {},
   "source": [
    "\n",
    "**Axis convention (tentative):**\n",
    "- Axis 0: Teff index (size ~301)\n",
    "- Axis 1: Gravity index (size ~41)\n",
    "- Axis 2: Variable index (size 5)\n",
    "- Axis 3: Vertical levels (size ~91)\n",
    "\n",
    "> The file does not carry labels. We'll visualize and you can map variables to physical quantities (e.g., pressure, temperature, scaling factors) using domain knowledge or advisor notes.\n"
   ]
  },
  {
   "cell_type": "code",
   "execution_count": null,
   "id": "fad01b8b",
   "metadata": {},
   "outputs": [],
   "source": [
    "\n",
    "# --- 2) Basic stats by variable\n",
    "def describe_component(a):\n",
    "    return {\n",
    "        \"min\": float(np.nanmin(a)),\n",
    "        \"max\": float(np.nanmax(a)),\n",
    "        \"finite_frac\": float(np.isfinite(a).mean())\n",
    "    }\n",
    "\n",
    "nT, nG, nV, nL = arr.shape\n",
    "stats = [describe_component(arr[:,:,iv,:]) for iv in range(nV)]\n",
    "stats\n"
   ]
  },
  {
   "cell_type": "code",
   "execution_count": null,
   "id": "a96bdb35",
   "metadata": {},
   "outputs": [],
   "source": [
    "\n",
    "# --- 3) Quick plots: variables vs. vertical index for selected (Teff, g)\n",
    "import matplotlib.pyplot as plt\n",
    "\n",
    "examples = [(0,0), (nT//2, 0), (nT//2, nG//2), (nT-1, nG-1)]\n",
    "\n",
    "for (iT, iG) in examples:\n",
    "    plt.figure()\n",
    "    for iv in range(nV):\n",
    "        plt.plot(range(nL), arr[iT, iG, iv, :], label=f\"var{iv}\")\n",
    "    plt.xlabel(\"Vertical index (0..nL-1)\")\n",
    "    plt.ylabel(\"Value\")\n",
    "    plt.title(f\"Slices at iT={iT}, iG={iG}\")\n",
    "    plt.legend()\n",
    "    plt.show()\n"
   ]
  },
  {
   "cell_type": "code",
   "execution_count": null,
   "id": "bf9fc853",
   "metadata": {},
   "outputs": [],
   "source": [
    "\n",
    "# --- 4) Mean over (Teff, g) for each variable vs. vertical index\n",
    "for iv in range(nV):\n",
    "    plt.figure()\n",
    "    mean_curve = np.mean(arr[:, :, iv, :], axis=(0,1))\n",
    "    plt.plot(range(nL), mean_curve, label=f\"mean var{iv}\")\n",
    "    plt.xlabel(\"Vertical index\")\n",
    "    plt.ylabel(\"Mean value over (Teff, g)\")\n",
    "    plt.title(f\"Mean curve over (Teff, g): var{iv}\")\n",
    "    plt.legend()\n",
    "    plt.show()\n"
   ]
  },
  {
   "cell_type": "markdown",
   "id": "27a21206",
   "metadata": {},
   "source": [
    "\n",
    "## 5) Export a (Teff, g, var) slice as CSV\n",
    "\n",
    "Pick indices and export the vertical profile for that variable to CSV for offline inspection.\n"
   ]
  },
  {
   "cell_type": "code",
   "execution_count": null,
   "id": "48b0d0af",
   "metadata": {},
   "outputs": [],
   "source": [
    "\n",
    "# Set these indices and variable to export:\n",
    "iT_sel = nT//2   # e.g., mid Teff index\n",
    "iG_sel = nG//2   # e.g., mid gravity index\n",
    "iv_sel = 0       # variable index 0..(nV-1)\n",
    "\n",
    "out_csv = Path(\"/mnt/data/tp_pickle_slice_T{}_G{}_V{}.csv\".format(iT_sel, iG_sel, iv_sel))\n",
    "np.savetxt(out_csv, arr[iT_sel, iG_sel, iv_sel, :], delimiter=\",\")\n",
    "out_csv\n"
   ]
  },
  {
   "cell_type": "markdown",
   "id": "4f4da6d1",
   "metadata": {},
   "source": [
    "\n",
    "## 6) (Optional) Interpolate onto a uniform log-pressure grid\n",
    "\n",
    "Once you identify which variable corresponds to **pressure** (monotonic with level) and which corresponds to **temperature**, you can use the function below. Fill in `pressure_vals` and `temperature_vals` accordingly.\n"
   ]
  },
  {
   "cell_type": "code",
   "execution_count": null,
   "id": "df75489f",
   "metadata": {},
   "outputs": [],
   "source": [
    "\n",
    "import numpy as np\n",
    "\n",
    "def interpolate_to_uniform_logP(P_bar, T_K, n_levels=100, p_min=None, p_max=None):\n",
    "    P = np.asarray(P_bar).astype(float)\n",
    "    T = np.asarray(T_K).astype(float)\n",
    "    mask = np.isfinite(P) & np.isfinite(T) & (P > 0)\n",
    "    P, T = P[mask], T[mask]\n",
    "    order = np.argsort(P)\n",
    "    P, T = P[order], T[order]\n",
    "\n",
    "    pmin = P.min() if p_min is None else max(p_min, P.min())\n",
    "    pmax = P.max() if p_max is None else min(p_max, P.max())\n",
    "    logP = np.log10(P)\n",
    "    grid = np.linspace(np.log10(pmin), np.log10(pmax), n_levels)\n",
    "    T_new = np.interp(grid, logP, T)\n",
    "    P_new = 10**grid\n",
    "    return P_new, T_new\n",
    "\n",
    "# Example (placeholder: replace with real mappings)\n",
    "# Suppose varX is pressure (in bars) and varY is temperature (K):\n",
    "# pressure_vals = arr[iT_sel, iG_sel, varX, :]\n",
    "# temperature_vals = arr[iT_sel, iG_sel, varY, :]\n",
    "# Pn, Tn = interpolate_to_uniform_logP(pressure_vals, temperature_vals, n_levels=120)\n",
    "# Pn[:5], Tn[:5]\n"
   ]
  }
 ],
 "metadata": {},
 "nbformat": 4,
 "nbformat_minor": 5
}
